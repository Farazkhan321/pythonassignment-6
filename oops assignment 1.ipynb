{
 "cells": [
  {
   "cell_type": "code",
   "execution_count": 1,
   "id": "741ed145-3b7b-4a01-9b06-e4f0cadd41a4",
   "metadata": {},
   "outputs": [],
   "source": [
    "# oops assignment 1"
   ]
  },
  {
   "cell_type": "code",
   "execution_count": 2,
   "id": "46e87fec-8a2c-422e-96f3-aa816bea719e",
   "metadata": {},
   "outputs": [],
   "source": [
    "# Q-1\n",
    "\"\"\"In object-oriented programming (OOP), a class is a blueprint or template for creating objects. \n",
    "An object is an instance of a class, and it represents a real-world entity that has attributes (characteristics) \n",
    "and behaviors (actions). Classes provide a way to structure and organize code in a modular and reusable manner.\n",
    "\n",
    "Let's take an example to illustrate the concepts of class and object. Consider a class called Car:\"\"\"\n",
    "\n",
    "class Car:\n",
    "    def __init__(self, make, model, year):\n",
    "        self.make = make\n",
    "        self.model = model\n",
    "        self.year = year\n",
    "        self.is_engine_on = False\n",
    "\n",
    "    def start_engine(self):\n",
    "        if not self.is_engine_on:\n",
    "            print(f\"The {self.year} {self.make} {self.model}'s engine is now running.\")\n",
    "            self.is_engine_on = True\n",
    "        else:\n",
    "            print(\"The engine is already running.\")\n",
    "\n",
    "    def stop_engine(self):\n",
    "        if self.is_engine_on:\n",
    "            print(f\"The {self.year} {self.make} {self.model}'s engine is now turned off.\")\n",
    "            self.is_engine_on = False\n",
    "        else:\n",
    "            print(\"The engine is already off.\")\n"
   ]
  },
  {
   "cell_type": "code",
   "execution_count": 3,
   "id": "c7fbc10b-5fe6-4660-b395-8058e48d9e47",
   "metadata": {},
   "outputs": [],
   "source": [
    "# Creating instances of the Car class\n",
    "car1 = Car(\"Toyota\", \"Camry\", 2022)\n",
    "car2 = Car(\"Honda\", \"Civic\", 2023)"
   ]
  },
  {
   "cell_type": "code",
   "execution_count": 6,
   "id": "f6ebb44b-7879-42f0-87e7-89b6b60f0791",
   "metadata": {},
   "outputs": [
    {
     "name": "stdout",
     "output_type": "stream",
     "text": [
      "The 2022 Toyota Camry's engine is now turned off.\n"
     ]
    }
   ],
   "source": [
    "car1.stop_engine()"
   ]
  },
  {
   "cell_type": "code",
   "execution_count": 8,
   "id": "15e6f95b-2d90-4157-9e0b-07d3be595f8c",
   "metadata": {},
   "outputs": [
    {
     "data": {
      "text/plain": [
       "'\\n1) polimorphism\\n2) inheritance\\n3) encapsulation\\n4) abstraction\\n'"
      ]
     },
     "execution_count": 8,
     "metadata": {},
     "output_type": "execute_result"
    }
   ],
   "source": [
    "# Q-2\n",
    "# The four pillars of Object-Oriented Programming (OOP) are:\n",
    "\"\"\"\n",
    "1) polimorphism\n",
    "2) inheritance\n",
    "3) encapsulation\n",
    "4) abstraction\n",
    "\"\"\""
   ]
  },
  {
   "cell_type": "code",
   "execution_count": 9,
   "id": "ff18589c-2356-41fb-8f69-bb60fac10bca",
   "metadata": {},
   "outputs": [
    {
     "name": "stdout",
     "output_type": "stream",
     "text": [
      "Buddy is 3 years old and is a Golden Retriever.\n",
      "Woof! Woof!\n",
      "Buddy is eating.\n",
      "Max is 2 years old and is a Labrador.\n",
      "Woof! Woof!\n",
      "Max is eating.\n"
     ]
    }
   ],
   "source": [
    "# Q-3\n",
    "#Here's why the __init__() function is used:\n",
    "\"\"\"\n",
    "1)Initialization:\n",
    "The __init__() method is used to set the initial values of the object's attributes. \n",
    "It allows you to initialize the state of the object when it is created.\n",
    "\n",
    "2)Attribute Assignment:\n",
    "Within the __init__() method, you can assign values to the attributes of the object using the self keyword. \n",
    "The self parameter represents the instance of the object being created.\n",
    "\n",
    "3)Parameterized Initialization:\n",
    "The __init__() method can take parameters, allowing you to provide values at the time of object creation. \n",
    "This enables you to customize the initial state of each object.\n",
    "\n",
    "Here's a simple example to illustrate the use of the __init__() function:\"\"\"\n",
    "\n",
    "class Dog:\n",
    "    def __init__(self, name, age, breed):\n",
    "        # Initialize attributes\n",
    "        self.name = name\n",
    "        self.age = age\n",
    "        self.breed = breed\n",
    "        self.is_hungry = True\n",
    "\n",
    "    def bark(self):\n",
    "        print(\"Woof! Woof!\")\n",
    "\n",
    "    def eat(self):\n",
    "        if self.is_hungry:\n",
    "            print(f\"{self.name} is eating.\")\n",
    "            self.is_hungry = False\n",
    "        else:\n",
    "            print(f\"{self.name} is not hungry right now.\")\n",
    "\n",
    "# Creating instances of the Dog class\n",
    "dog1 = Dog(\"Buddy\", 3, \"Golden Retriever\")\n",
    "dog2 = Dog(\"Max\", 2, \"Labrador\")\n",
    "\n",
    "# Accessing attributes and methods\n",
    "print(f\"{dog1.name} is {dog1.age} years old and is a {dog1.breed}.\")\n",
    "dog1.bark()\n",
    "dog1.eat()\n",
    "\n",
    "print(f\"{dog2.name} is {dog2.age} years old and is a {dog2.breed}.\")\n",
    "dog2.bark()\n",
    "dog2.eat()\n"
   ]
  },
  {
   "cell_type": "code",
   "execution_count": 1,
   "id": "360fcb64-cb3f-4e92-b673-75d4d7d189fd",
   "metadata": {},
   "outputs": [
    {
     "data": {
      "text/plain": [
       "\"\\n\\nIn object-oriented programming (OOP), self is a convention used to represent the instance of a class. \\nThe use of self helps distinguish between instance variables (belonging to the object) \\nand local variables (used within a method). It is not a keyword in Python; rather, it's a conventional name.\\n\""
      ]
     },
     "execution_count": 1,
     "metadata": {},
     "output_type": "execute_result"
    }
   ],
   "source": [
    "# Q-4\n",
    "\"\"\"\n",
    "\n",
    "In object-oriented programming (OOP), self is a convention used to represent the instance of a class. \n",
    "The use of self helps distinguish between instance variables (belonging to the object) \n",
    "and local variables (used within a method). It is not a keyword in Python; rather, it's a conventional name.\n",
    "\"\"\""
   ]
  },
  {
   "cell_type": "code",
   "execution_count": 2,
   "id": "d79dfcd0-1c2a-49f1-ab78-68b653a26a59",
   "metadata": {},
   "outputs": [
    {
     "name": "stdout",
     "output_type": "stream",
     "text": [
      "Buddy\n",
      "Buddy says Woof!\n"
     ]
    }
   ],
   "source": [
    "# Q-5\n",
    "\"\"\"\n",
    "Inheritance is a fundamental concept in object-oriented programming (OOP) that allows a class (subclass or derived class) \n",
    "to inherit attributes and methods from another class (superclass or base class). \n",
    "This promotes code reuse and establishes a relationship between classes. \n",
    "There are several types of inheritance, including single inheritance, multiple inheritance, and hierarchical inheritance.\n",
    "\n",
    "1)Single Inheritance:\n",
    "In single inheritance, a subclass inherits from only one superclass.\"\"\"\n",
    "\n",
    "class Animal:\n",
    "    def __init__(self, name):\n",
    "        self.name = name\n",
    "\n",
    "    def speak(self):\n",
    "        pass\n",
    "\n",
    "class Dog(Animal):\n",
    "    def speak(self):\n",
    "        return f\"{self.name} says Woof!\"\n",
    "\n",
    "# Creating an instance of the subclass\n",
    "dog_instance = Dog(\"Buddy\")\n",
    "\n",
    "# Accessing attributes and methods from the superclass\n",
    "print(dog_instance.name)    # Output: Buddy\n",
    "print(dog_instance.speak()) # Output: Buddy says Woof!\n"
   ]
  },
  {
   "cell_type": "code",
   "execution_count": 1,
   "id": "b1e6e8ee-62e9-4a48-838f-e6090037e72d",
   "metadata": {},
   "outputs": [
    {
     "name": "stdout",
     "output_type": "stream",
     "text": [
      "Bird chirps\n",
      "Mammal runs\n",
      "Bat flies\n"
     ]
    }
   ],
   "source": [
    "\"\"\"\n",
    "2)Multiple Inheritance:\n",
    "A class can inherit from more than one superclass.\"\"\"\n",
    "\n",
    "class Bird:\n",
    "    def chirp(self):\n",
    "        print(\"Bird chirps\")\n",
    "\n",
    "class Mammal:\n",
    "    def run(self):\n",
    "        print(\"Mammal runs\")\n",
    "\n",
    "class Bat(Bird, Mammal):\n",
    "    def fly(self):\n",
    "        print(\"Bat flies\")\n",
    "\n",
    "# Bat inherits from both Bird and Mammal\n",
    "my_bat = Bat()\n",
    "my_bat.chirp()  \n",
    "my_bat.run()    \n",
    "my_bat.fly()    \n"
   ]
  },
  {
   "cell_type": "code",
   "execution_count": 2,
   "id": "c9df09b1-e6c8-4c21-b2d8-c10cf13900e3",
   "metadata": {},
   "outputs": [
    {
     "name": "stdout",
     "output_type": "stream",
     "text": [
      "Vehicle starts\n",
      "Car drives\n",
      "Electric car charges\n"
     ]
    }
   ],
   "source": [
    "\"\"\"\n",
    "3)Multilevel Inheritance\n",
    "One class derives from another, and a third class derives from the second class.\"\"\"\n",
    "\n",
    "class Vehicle:\n",
    "    def start(self):\n",
    "        print(\"Vehicle starts\")\n",
    "\n",
    "class Car(Vehicle):\n",
    "    def drive(self):\n",
    "        print(\"Car drives\")\n",
    "\n",
    "class ElectricCar(Car):\n",
    "    def charge(self):\n",
    "        print(\"Electric car charges\")\n",
    "\n",
    "# ElectricCar inherits from both Car and Vehicle (multilevel)\n",
    "my_electric_car = ElectricCar()\n",
    "my_electric_car.start()  \n",
    "my_electric_car.drive()  \n",
    "my_electric_car.charge() "
   ]
  },
  {
   "cell_type": "code",
   "execution_count": null,
   "id": "6f894676-f966-4527-a728-fc4ca9c5f778",
   "metadata": {},
   "outputs": [],
   "source": []
  }
 ],
 "metadata": {
  "kernelspec": {
   "display_name": "Python 3 (ipykernel)",
   "language": "python",
   "name": "python3"
  },
  "language_info": {
   "codemirror_mode": {
    "name": "ipython",
    "version": 3
   },
   "file_extension": ".py",
   "mimetype": "text/x-python",
   "name": "python",
   "nbconvert_exporter": "python",
   "pygments_lexer": "ipython3",
   "version": "3.10.8"
  }
 },
 "nbformat": 4,
 "nbformat_minor": 5
}
